{
  "nbformat": 4,
  "nbformat_minor": 0,
  "metadata": {
    "colab": {
      "provenance": [],
      "authorship_tag": "ABX9TyNy9nEB3vsRSwCZhnbzNPtR",
      "include_colab_link": true
    },
    "kernelspec": {
      "name": "python3",
      "display_name": "Python 3"
    },
    "language_info": {
      "name": "python"
    }
  },
  "cells": [
    {
      "cell_type": "markdown",
      "metadata": {
        "id": "view-in-github",
        "colab_type": "text"
      },
      "source": [
        "<a href=\"https://colab.research.google.com/github/vg919/como-jogar-cs/blob/main/introdu%C3%A7ao_ou_pyton.ipynb\" target=\"_parent\"><img src=\"https://colab.research.google.com/assets/colab-badge.svg\" alt=\"Open In Colab\"/></a>"
      ]
    },
    {
      "cell_type": "code",
      "execution_count": 2,
      "metadata": {
        "colab": {
          "base_uri": "https://localhost:8080/"
        },
        "id": "j6knkVcPjaLg",
        "outputId": "fd9553d4-98f9-4453-e31e-1ecfed5b62dc"
      },
      "outputs": [
        {
          "output_type": "stream",
          "name": "stdout",
          "text": [
            "I Competiçao de Progamaçao da Start\n"
          ]
        }
      ],
      "source": [
        "print(\"I Competiçao de Progamaçao da Start\")"
      ]
    },
    {
      "cell_type": "code",
      "source": [
        "ano = 2\n",
        "\n",
        "print(ano, \"Competição de Progamação da Start\")"
      ],
      "metadata": {
        "colab": {
          "base_uri": "https://localhost:8080/"
        },
        "id": "FB7OewETkGa8",
        "outputId": "961d6ec6-b4e0-4824-b20c-0d1b426a9776"
      },
      "execution_count": 4,
      "outputs": [
        {
          "output_type": "stream",
          "name": "stdout",
          "text": [
            "2 Competição de Progamação da Start\n"
          ]
        }
      ]
    },
    {
      "cell_type": "code",
      "source": [
        "print(f\"{ano} Competição da Progamaçao da Start\")"
      ],
      "metadata": {
        "colab": {
          "base_uri": "https://localhost:8080/"
        },
        "id": "1Q4s0W1Dlzbt",
        "outputId": "623fd702-029b-4a02-de5f-d248a8c06e0c"
      },
      "execution_count": 5,
      "outputs": [
        {
          "output_type": "stream",
          "name": "stdout",
          "text": [
            "2 Competição da Progamaçao da Start\n"
          ]
        }
      ]
    }
  ]
}